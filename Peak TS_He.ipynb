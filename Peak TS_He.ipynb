{
 "cells": [
  {
   "cell_type": "code",
   "execution_count": 79,
   "metadata": {},
   "outputs": [],
   "source": [
    "import pandas as pd\n",
    "import matplotlib.pyplot as plt"
   ]
  },
  {
   "cell_type": "code",
   "execution_count": 2,
   "metadata": {},
   "outputs": [],
   "source": [
    "data = pd.read_excel(\"Peak Forecasting Demo Data.xlsx\", sep = '\\t', encoding = 'unicode_escape')"
   ]
  },
  {
   "cell_type": "code",
   "execution_count": 3,
   "metadata": {},
   "outputs": [
    {
     "data": {
      "text/html": [
       "<div>\n",
       "<style scoped>\n",
       "    .dataframe tbody tr th:only-of-type {\n",
       "        vertical-align: middle;\n",
       "    }\n",
       "\n",
       "    .dataframe tbody tr th {\n",
       "        vertical-align: top;\n",
       "    }\n",
       "\n",
       "    .dataframe thead th {\n",
       "        text-align: right;\n",
       "    }\n",
       "</style>\n",
       "<table border=\"1\" class=\"dataframe\">\n",
       "  <thead>\n",
       "    <tr style=\"text-align: right;\">\n",
       "      <th></th>\n",
       "      <th>num</th>\n",
       "      <th>num2</th>\n",
       "      <th>Account Number</th>\n",
       "      <th>Origin</th>\n",
       "      <th>Destination</th>\n",
       "      <th>Service</th>\n",
       "      <th>CPT Date</th>\n",
       "      <th>CPT Hour</th>\n",
       "      <th>Delivery Due Date</th>\n",
       "      <th>Ordered</th>\n",
       "      <th>Processed</th>\n",
       "      <th>Manifested</th>\n",
       "      <th>Total</th>\n",
       "    </tr>\n",
       "  </thead>\n",
       "  <tbody>\n",
       "    <tr>\n",
       "      <th>0</th>\n",
       "      <td>6</td>\n",
       "      <td>4</td>\n",
       "      <td>89231</td>\n",
       "      <td>Portland</td>\n",
       "      <td>Brooklyn</td>\n",
       "      <td>SECOND DAY AIR/EXPEDITED</td>\n",
       "      <td>2020-10-13</td>\n",
       "      <td>13:00:00</td>\n",
       "      <td>2020-10-20</td>\n",
       "      <td>31000</td>\n",
       "      <td>77000</td>\n",
       "      <td>21000</td>\n",
       "      <td>129000</td>\n",
       "    </tr>\n",
       "    <tr>\n",
       "      <th>1</th>\n",
       "      <td>18</td>\n",
       "      <td>4</td>\n",
       "      <td>99335</td>\n",
       "      <td>Stockton</td>\n",
       "      <td>Buffalo</td>\n",
       "      <td>NEXT DAY AIR/EXPRESS</td>\n",
       "      <td>2020-10-13</td>\n",
       "      <td>13:00:00</td>\n",
       "      <td>2020-10-20</td>\n",
       "      <td>57000</td>\n",
       "      <td>7000</td>\n",
       "      <td>24000</td>\n",
       "      <td>88000</td>\n",
       "    </tr>\n",
       "    <tr>\n",
       "      <th>2</th>\n",
       "      <td>19</td>\n",
       "      <td>2</td>\n",
       "      <td>54906</td>\n",
       "      <td>Oxnard</td>\n",
       "      <td>Hartford</td>\n",
       "      <td>OTHER</td>\n",
       "      <td>2020-10-11</td>\n",
       "      <td>09:00:00</td>\n",
       "      <td>2020-10-18</td>\n",
       "      <td>33000</td>\n",
       "      <td>13000</td>\n",
       "      <td>79000</td>\n",
       "      <td>125000</td>\n",
       "    </tr>\n",
       "    <tr>\n",
       "      <th>3</th>\n",
       "      <td>21</td>\n",
       "      <td>3</td>\n",
       "      <td>74285</td>\n",
       "      <td>Anaheim</td>\n",
       "      <td>Sarasota</td>\n",
       "      <td>OTHER</td>\n",
       "      <td>2020-10-12</td>\n",
       "      <td>11:00:00</td>\n",
       "      <td>2020-10-17</td>\n",
       "      <td>46000</td>\n",
       "      <td>59000</td>\n",
       "      <td>10000</td>\n",
       "      <td>115000</td>\n",
       "    </tr>\n",
       "    <tr>\n",
       "      <th>4</th>\n",
       "      <td>8</td>\n",
       "      <td>1</td>\n",
       "      <td>76853</td>\n",
       "      <td>San Jose</td>\n",
       "      <td>Orlando</td>\n",
       "      <td>GROUND/STANDARD</td>\n",
       "      <td>2020-10-10</td>\n",
       "      <td>05:00:00</td>\n",
       "      <td>2020-10-16</td>\n",
       "      <td>34000</td>\n",
       "      <td>12000</td>\n",
       "      <td>45000</td>\n",
       "      <td>91000</td>\n",
       "    </tr>\n",
       "  </tbody>\n",
       "</table>\n",
       "</div>"
      ],
      "text/plain": [
       "   num  num2  Account Number    Origin Destination                   Service  \\\n",
       "0    6     4           89231  Portland    Brooklyn  SECOND DAY AIR/EXPEDITED   \n",
       "1   18     4           99335  Stockton     Buffalo      NEXT DAY AIR/EXPRESS   \n",
       "2   19     2           54906    Oxnard    Hartford                     OTHER   \n",
       "3   21     3           74285   Anaheim    Sarasota                     OTHER   \n",
       "4    8     1           76853  San Jose     Orlando           GROUND/STANDARD   \n",
       "\n",
       "    CPT Date  CPT Hour Delivery Due Date  Ordered   Processed  Manifested  \\\n",
       "0 2020-10-13  13:00:00        2020-10-20     31000      77000       21000   \n",
       "1 2020-10-13  13:00:00        2020-10-20     57000       7000       24000   \n",
       "2 2020-10-11  09:00:00        2020-10-18     33000      13000       79000   \n",
       "3 2020-10-12  11:00:00        2020-10-17     46000      59000       10000   \n",
       "4 2020-10-10  05:00:00        2020-10-16     34000      12000       45000   \n",
       "\n",
       "    Total  \n",
       "0  129000  \n",
       "1   88000  \n",
       "2  125000  \n",
       "3  115000  \n",
       "4   91000  "
      ]
     },
     "execution_count": 3,
     "metadata": {},
     "output_type": "execute_result"
    }
   ],
   "source": [
    "data.head()"
   ]
  },
  {
   "cell_type": "code",
   "execution_count": 37,
   "metadata": {},
   "outputs": [
    {
     "name": "stdout",
     "output_type": "stream",
     "text": [
      "There are  31 unique account numbers\n"
     ]
    },
    {
     "data": {
      "text/plain": [
       "array([89231, 99335, 54906, 74285, 76853, 65957, 25125, 62257, 36509,\n",
       "       67071, 47451, 73198, 40937, 21653, 76494, 39439, 22785, 42968,\n",
       "       76875, 61473, 36159, 23188, 37795, 40872, 93727, 20868, 30629,\n",
       "       11402, 32138, 77925, 68317], dtype=int64)"
      ]
     },
     "execution_count": 37,
     "metadata": {},
     "output_type": "execute_result"
    }
   ],
   "source": [
    "#How many unique account numbers\n",
    "acctNum = data['Account Number'].unique() #hold all the accout numbers will need later\n",
    "print(\"There are \",len(acctNum), \"unique account numbers\")\n",
    "acctNum"
   ]
  },
  {
   "cell_type": "code",
   "execution_count": 9,
   "metadata": {},
   "outputs": [],
   "source": [
    "#we only need three features for our time series: Account #, CPT Date, and Total\n",
    "data = data[['Account Number','CPT Date','Total']]"
   ]
  },
  {
   "cell_type": "code",
   "execution_count": 11,
   "metadata": {},
   "outputs": [
    {
     "data": {
      "text/plain": [
       "Account Number             int64\n",
       "CPT Date          datetime64[ns]\n",
       "Total                      int64\n",
       "dtype: object"
      ]
     },
     "execution_count": 11,
     "metadata": {},
     "output_type": "execute_result"
    }
   ],
   "source": [
    "#check if the column data types are correct\n",
    "data.dtypes"
   ]
  },
  {
   "cell_type": "code",
   "execution_count": 12,
   "metadata": {},
   "outputs": [
    {
     "data": {
      "text/plain": [
       "0"
      ]
     },
     "execution_count": 12,
     "metadata": {},
     "output_type": "execute_result"
    }
   ],
   "source": [
    "#Any missing values? How many?\n",
    "data.isnull().values.any()\n",
    "data.isnull().sum().sum()"
   ]
  },
  {
   "cell_type": "code",
   "execution_count": 84,
   "metadata": {},
   "outputs": [
    {
     "data": {
      "text/html": [
       "<div>\n",
       "<style scoped>\n",
       "    .dataframe tbody tr th:only-of-type {\n",
       "        vertical-align: middle;\n",
       "    }\n",
       "\n",
       "    .dataframe tbody tr th {\n",
       "        vertical-align: top;\n",
       "    }\n",
       "\n",
       "    .dataframe thead th {\n",
       "        text-align: right;\n",
       "    }\n",
       "</style>\n",
       "<table border=\"1\" class=\"dataframe\">\n",
       "  <thead>\n",
       "    <tr style=\"text-align: right;\">\n",
       "      <th></th>\n",
       "      <th>Account Number</th>\n",
       "      <th>CPT Date</th>\n",
       "      <th>Total</th>\n",
       "    </tr>\n",
       "  </thead>\n",
       "  <tbody>\n",
       "    <tr>\n",
       "      <th>0</th>\n",
       "      <td>89231</td>\n",
       "      <td>2020-10-13</td>\n",
       "      <td>129000</td>\n",
       "    </tr>\n",
       "    <tr>\n",
       "      <th>1</th>\n",
       "      <td>99335</td>\n",
       "      <td>2020-10-13</td>\n",
       "      <td>88000</td>\n",
       "    </tr>\n",
       "    <tr>\n",
       "      <th>2</th>\n",
       "      <td>54906</td>\n",
       "      <td>2020-10-11</td>\n",
       "      <td>125000</td>\n",
       "    </tr>\n",
       "    <tr>\n",
       "      <th>3</th>\n",
       "      <td>74285</td>\n",
       "      <td>2020-10-12</td>\n",
       "      <td>115000</td>\n",
       "    </tr>\n",
       "    <tr>\n",
       "      <th>4</th>\n",
       "      <td>76853</td>\n",
       "      <td>2020-10-10</td>\n",
       "      <td>91000</td>\n",
       "    </tr>\n",
       "  </tbody>\n",
       "</table>\n",
       "</div>"
      ],
      "text/plain": [
       "   Account Number   CPT Date   Total\n",
       "0           89231 2020-10-13  129000\n",
       "1           99335 2020-10-13   88000\n",
       "2           54906 2020-10-11  125000\n",
       "3           74285 2020-10-12  115000\n",
       "4           76853 2020-10-10   91000"
      ]
     },
     "execution_count": 84,
     "metadata": {},
     "output_type": "execute_result"
    }
   ],
   "source": [
    "data.head()"
   ]
  },
  {
   "cell_type": "code",
   "execution_count": 74,
   "metadata": {},
   "outputs": [],
   "source": [
    "#Sum up all the total values for an account number and by date\n",
    "new_data = data.groupby(['Account Number','CPT Date'], as_index = False).sum()"
   ]
  },
  {
   "cell_type": "code",
   "execution_count": 86,
   "metadata": {},
   "outputs": [
    {
     "data": {
      "text/html": [
       "<div>\n",
       "<style scoped>\n",
       "    .dataframe tbody tr th:only-of-type {\n",
       "        vertical-align: middle;\n",
       "    }\n",
       "\n",
       "    .dataframe tbody tr th {\n",
       "        vertical-align: top;\n",
       "    }\n",
       "\n",
       "    .dataframe thead th {\n",
       "        text-align: right;\n",
       "    }\n",
       "</style>\n",
       "<table border=\"1\" class=\"dataframe\">\n",
       "  <thead>\n",
       "    <tr style=\"text-align: right;\">\n",
       "      <th></th>\n",
       "      <th>Account Number</th>\n",
       "      <th>CPT Date</th>\n",
       "      <th>Total</th>\n",
       "    </tr>\n",
       "  </thead>\n",
       "  <tbody>\n",
       "    <tr>\n",
       "      <th>0</th>\n",
       "      <td>11402</td>\n",
       "      <td>2020-10-10</td>\n",
       "      <td>3863000</td>\n",
       "    </tr>\n",
       "    <tr>\n",
       "      <th>1</th>\n",
       "      <td>11402</td>\n",
       "      <td>2020-10-11</td>\n",
       "      <td>4257000</td>\n",
       "    </tr>\n",
       "    <tr>\n",
       "      <th>2</th>\n",
       "      <td>11402</td>\n",
       "      <td>2020-10-12</td>\n",
       "      <td>4687000</td>\n",
       "    </tr>\n",
       "    <tr>\n",
       "      <th>3</th>\n",
       "      <td>11402</td>\n",
       "      <td>2020-10-13</td>\n",
       "      <td>3980000</td>\n",
       "    </tr>\n",
       "    <tr>\n",
       "      <th>4</th>\n",
       "      <td>11402</td>\n",
       "      <td>2020-10-14</td>\n",
       "      <td>3423000</td>\n",
       "    </tr>\n",
       "  </tbody>\n",
       "</table>\n",
       "</div>"
      ],
      "text/plain": [
       "   Account Number   CPT Date    Total\n",
       "0           11402 2020-10-10  3863000\n",
       "1           11402 2020-10-11  4257000\n",
       "2           11402 2020-10-12  4687000\n",
       "3           11402 2020-10-13  3980000\n",
       "4           11402 2020-10-14  3423000"
      ]
     },
     "execution_count": 86,
     "metadata": {},
     "output_type": "execute_result"
    }
   ],
   "source": [
    "new_data.head()"
   ]
  },
  {
   "cell_type": "code",
   "execution_count": 75,
   "metadata": {},
   "outputs": [
    {
     "data": {
      "text/plain": [
       "Index(['Account Number', 'CPT Date', 'Total'], dtype='object')"
      ]
     },
     "execution_count": 75,
     "metadata": {},
     "output_type": "execute_result"
    }
   ],
   "source": [
    "new_data.columns"
   ]
  },
  {
   "cell_type": "markdown",
   "metadata": {},
   "source": [
    "# This is markdown code really neat"
   ]
  },
  {
   "cell_type": "code",
   "execution_count": 89,
   "metadata": {},
   "outputs": [],
   "source": [
    "data11402 = new_data[new_data['Account Number'] == 11402]\n",
    "x = data11402['CPT Date']\n",
    "y = data11402['Total']"
   ]
  },
  {
   "cell_type": "code",
   "execution_count": 90,
   "metadata": {},
   "outputs": [
    {
     "data": {
      "text/plain": [
       "[<matplotlib.lines.Line2D at 0x2066b906a90>]"
      ]
     },
     "execution_count": 90,
     "metadata": {},
     "output_type": "execute_result"
    },
    {
     "data": {
      "image/png": "[encoded data removed]",
      "text/plain": [
       "<Figure size 432x288 with 1 Axes>"
      ]
     },
     "metadata": {},
     "output_type": "display_data"
    }
   ],
   "source": [
    "plt.plot(x,y)"
   ]
  },
  {
   "cell_type": "code",
   "execution_count": 91,
   "metadata": {},
   "outputs": [
    {
     "data": {
      "text/html": [
       "<div>\n",
       "<style scoped>\n",
       "    .dataframe tbody tr th:only-of-type {\n",
       "        vertical-align: middle;\n",
       "    }\n",
       "\n",
       "    .dataframe tbody tr th {\n",
       "        vertical-align: top;\n",
       "    }\n",
       "\n",
       "    .dataframe thead th {\n",
       "        text-align: right;\n",
       "    }\n",
       "</style>\n",
       "<table border=\"1\" class=\"dataframe\">\n",
       "  <thead>\n",
       "    <tr style=\"text-align: right;\">\n",
       "      <th></th>\n",
       "      <th>Account Number</th>\n",
       "      <th>Total</th>\n",
       "    </tr>\n",
       "  </thead>\n",
       "  <tbody>\n",
       "    <tr>\n",
       "      <th>count</th>\n",
       "      <td>10.0</td>\n",
       "      <td>1.000000e+01</td>\n",
       "    </tr>\n",
       "    <tr>\n",
       "      <th>mean</th>\n",
       "      <td>11402.0</td>\n",
       "      <td>4.871400e+06</td>\n",
       "    </tr>\n",
       "    <tr>\n",
       "      <th>std</th>\n",
       "      <td>0.0</td>\n",
       "      <td>1.015423e+06</td>\n",
       "    </tr>\n",
       "    <tr>\n",
       "      <th>min</th>\n",
       "      <td>11402.0</td>\n",
       "      <td>3.423000e+06</td>\n",
       "    </tr>\n",
       "    <tr>\n",
       "      <th>25%</th>\n",
       "      <td>11402.0</td>\n",
       "      <td>4.049250e+06</td>\n",
       "    </tr>\n",
       "    <tr>\n",
       "      <th>50%</th>\n",
       "      <td>11402.0</td>\n",
       "      <td>4.730500e+06</td>\n",
       "    </tr>\n",
       "    <tr>\n",
       "      <th>75%</th>\n",
       "      <td>11402.0</td>\n",
       "      <td>5.898500e+06</td>\n",
       "    </tr>\n",
       "    <tr>\n",
       "      <th>max</th>\n",
       "      <td>11402.0</td>\n",
       "      <td>6.199000e+06</td>\n",
       "    </tr>\n",
       "  </tbody>\n",
       "</table>\n",
       "</div>"
      ],
      "text/plain": [
       "       Account Number         Total\n",
       "count            10.0  1.000000e+01\n",
       "mean          11402.0  4.871400e+06\n",
       "std               0.0  1.015423e+06\n",
       "min           11402.0  3.423000e+06\n",
       "25%           11402.0  4.049250e+06\n",
       "50%           11402.0  4.730500e+06\n",
       "75%           11402.0  5.898500e+06\n",
       "max           11402.0  6.199000e+06"
      ]
     },
     "execution_count": 91,
     "metadata": {},
     "output_type": "execute_result"
    }
   ],
   "source": [
    "data11402.describe()"
   ]
  },
  {
   "cell_type": "code",
   "execution_count": null,
   "metadata": {},
   "outputs": [],
   "source": []
  }
 ],
 "metadata": {
  "kernelspec": {
   "display_name": "Python 3",
   "language": "python",
   "name": "python3"
  },
  "language_info": {
   "codemirror_mode": {
    "name": "ipython",
    "version": 3
   },
   "file_extension": ".py",
   "mimetype": "text/x-python",
   "name": "python",
   "nbconvert_exporter": "python",
   "pygments_lexer": "ipython3",
   "version": "3.6.5"
  }
 },
 "nbformat": 4,
 "nbformat_minor": 2
}
